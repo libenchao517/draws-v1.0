{
 "cells": [
  {
   "cell_type": "code",
   "execution_count": 1,
   "metadata": {
    "collapsed": true,
    "ExecuteTime": {
     "end_time": "2025-03-25T14:16:47.566499100Z",
     "start_time": "2025-03-25T14:16:46.645060Z"
    }
   },
   "outputs": [],
   "source": [
    "## 加载必要的库\n",
    "import copy\n",
    "import numpy as np\n",
    "from sklearn.datasets import make_classification\n",
    "from sklearn.metrics import pairwise_distances\n",
    "from sklearn.datasets import fetch_openml"
   ]
  },
  {
   "cell_type": "code",
   "execution_count": 2,
   "outputs": [
    {
     "data": {
      "text/plain": "<Figure size 640x480 with 0 Axes>"
     },
     "metadata": {},
     "output_type": "display_data"
    }
   ],
   "source": [
    "## 2D散点图绘制示例\n",
    "from Draw import Draw_Embedding\n",
    "DE = Draw_Embedding(cmap=\"viridis\", dota_size=10)\n",
    "X_2, y_2 = make_classification(\n",
    "    n_samples=3000,         # 样本数\n",
    "    n_features=2,           # 特征数（2维方便可视化）\n",
    "    n_informative=2,        # 有效特征数\n",
    "    n_redundant=0,          # 冗余特征数\n",
    "    n_classes=3,            # 类别数\n",
    "    n_clusters_per_class=1, # 每个类别的簇数\n",
    "    random_state=42         # 随机种子\n",
    ")\n",
    "DE.filename = \"DE-2\"\n",
    "DE.Draw_embedding(Embedding=X_2, Target=y_2)"
   ],
   "metadata": {
    "collapsed": false,
    "ExecuteTime": {
     "end_time": "2025-03-25T14:16:49.972268800Z",
     "start_time": "2025-03-25T14:16:47.570501500Z"
    }
   }
  },
  {
   "cell_type": "code",
   "execution_count": 3,
   "outputs": [
    {
     "name": "stderr",
     "output_type": "stream",
     "text": [
      "E:\\REUMAP\\Draw\\DrawPicture.py:34: UserWarning: Tight layout not applied. The left and right margins cannot be made large enough to accommodate all axes decorations.\n",
      "  plt.savefig(\n"
     ]
    },
    {
     "data": {
      "text/plain": "<Figure size 640x480 with 0 Axes>"
     },
     "metadata": {},
     "output_type": "display_data"
    }
   ],
   "source": [
    "## 3D散点图绘制示例\n",
    "X_3, y_3 = make_classification(\n",
    "    n_samples=3000,          # 样本数\n",
    "    n_features=3,           # 特征数（2维方便可视化）\n",
    "    n_informative=3,        # 有效特征数\n",
    "    n_redundant=0,          # 冗余特征数\n",
    "    n_classes=3,            # 类别数\n",
    "    n_clusters_per_class=1, # 每个类别的簇数\n",
    "    random_state=42          # 随机种子\n",
    ")\n",
    "DE.filename = \"DE-3\"\n",
    "DE.Draw_embedding_3D(Embedding=X_3, Target=y_3)"
   ],
   "metadata": {
    "collapsed": false,
    "ExecuteTime": {
     "end_time": "2025-03-25T14:16:51.364041700Z",
     "start_time": "2025-03-25T14:16:49.976265300Z"
    }
   }
  },
  {
   "cell_type": "code",
   "execution_count": 4,
   "outputs": [
    {
     "data": {
      "text/plain": "<Figure size 640x480 with 0 Axes>"
     },
     "metadata": {},
     "output_type": "display_data"
    }
   ],
   "source": [
    "## 对比直方图绘制示例\n",
    "from Draw import Draw_Pairhist\n",
    "d_2 = pairwise_distances(X_2)\n",
    "d_3 = pairwise_distances(X_3)\n",
    "DP = Draw_Pairhist(filename=\"DP\", bar_num=20)\n",
    "DP.Draw_pairhist(d_2, d_3)"
   ],
   "metadata": {
    "collapsed": false,
    "ExecuteTime": {
     "end_time": "2025-03-25T14:16:52.552417100Z",
     "start_time": "2025-03-25T14:16:51.369053400Z"
    }
   }
  },
  {
   "cell_type": "code",
   "execution_count": 5,
   "outputs": [
    {
     "name": "stderr",
     "output_type": "stream",
     "text": [
      "E:\\REUMAP\\Draw\\DrawPicture.py:376: UserWarning: You passed a edgecolor/edgecolors ('#427AB2') for an unfilled marker ('x').  Matplotlib is ignoring the edgecolor in favor of the facecolor.  This behavior may change in the future.\n",
      "  plt.scatter(np.array(self.column), np.array(self.left[i]), facecolor=self.left_markerfacecolor[i], edgecolor=self.left_markeredgecolor[i], marker=self.left_marker[i], label=self.left_label[i])\n"
     ]
    },
    {
     "data": {
      "text/plain": "<Figure size 640x480 with 0 Axes>"
     },
     "metadata": {},
     "output_type": "display_data"
    }
   ],
   "source": [
    "## 单轴折线图绘制示例\n",
    "from Draw import Draw_Line_Chart\n",
    "x = np.arange(10)\n",
    "y1 = x\n",
    "y2 = x + 1\n",
    "DLC = Draw_Line_Chart(\n",
    "    filename='DLC',\n",
    "    path='Figure',\n",
    "    fontsize=8,\n",
    "    titlefontsize=12,\n",
    "    left=[y1, y2],\n",
    "    right=None,\n",
    "    column=x,\n",
    "    left_label=[\"y1\", \"y2\"],\n",
    "    right_label=None,\n",
    "    ylim_left=(0, 12),\n",
    "    ylim_right=None,\n",
    "    left_color=(\"#427AB2\", \"#F09148\"),\n",
    "    right_color=None,\n",
    "    left_marker=(\"x\", \"o\"),\n",
    "    right_marker=None,\n",
    "    left_markeredgecolor=(\"#427AB2\", \"#F09148\"),\n",
    "    left_markerfacecolor=None,\n",
    "    right_markeredgecolor=None,\n",
    "    right_markerfacecolor=None,\n",
    "    xlabel='x',\n",
    "    ylabel_left='left',\n",
    "    ylabel_right=None,\n",
    "    title = None\n",
    ")\n",
    "DLC.filename = \"DLC-1\"\n",
    "DLC.Draw_simple_line()"
   ],
   "metadata": {
    "collapsed": false,
    "ExecuteTime": {
     "end_time": "2025-03-25T14:16:53.108516600Z",
     "start_time": "2025-03-25T14:16:52.560189500Z"
    }
   }
  },
  {
   "cell_type": "code",
   "execution_count": 6,
   "outputs": [
    {
     "name": "stderr",
     "output_type": "stream",
     "text": [
      "E:\\REUMAP\\Draw\\DrawPicture.py:338: UserWarning: You passed a edgecolor/edgecolors ('#427AB2') for an unfilled marker ('x').  Matplotlib is ignoring the edgecolor in favor of the facecolor.  This behavior may change in the future.\n",
      "  ax1.scatter(self.column, self.left[i], facecolor=self.left_markerfacecolor[i], edgecolor=self.left_markeredgecolor[i], marker=self.left_marker[i])\n"
     ]
    },
    {
     "data": {
      "text/plain": "<Figure size 640x480 with 0 Axes>"
     },
     "metadata": {},
     "output_type": "display_data"
    }
   ],
   "source": [
    "## 双轴折线图绘制示例\n",
    "from Draw import Draw_Line_Chart\n",
    "x = np.arange(10)\n",
    "y1 = x\n",
    "y2 = x + 1\n",
    "y3 = x - 1\n",
    "y4 = -x + 10\n",
    "DLC = Draw_Line_Chart(\n",
    "    filename='DLC',\n",
    "    path='Figure',\n",
    "    fontsize=8,\n",
    "    titlefontsize=12,\n",
    "    left=[y1, y2],\n",
    "    right=[y3, y4],\n",
    "    column=x,\n",
    "    left_label=[\"y1\", \"y2\"],\n",
    "    right_label=[\"y3\", \"y4\"],\n",
    "    ylim_left=(0, 12),\n",
    "    ylim_right=(0, 12),\n",
    "    left_color=(\"#427AB2\", \"#F09148\"),\n",
    "    right_color=(\"#DBDB8D\", \"#C59D94\"),\n",
    "    left_marker=(\"x\", \"o\"),\n",
    "    right_marker=(\"s\", \"h\"),\n",
    "    left_markeredgecolor=(\"#427AB2\", \"#F09148\"),\n",
    "    left_markerfacecolor=None,\n",
    "    right_markeredgecolor=(\"#DBDB8D\", \"#C59D94\"),\n",
    "    right_markerfacecolor=None,\n",
    "    xlabel='x',\n",
    "    ylabel_left='left',\n",
    "    ylabel_right='right',\n",
    "    title = None\n",
    ")\n",
    "DLC.filename = \"DLC-2\"\n",
    "DLC.Draw_double_line()"
   ],
   "metadata": {
    "collapsed": false,
    "ExecuteTime": {
     "end_time": "2025-03-25T14:16:53.956877400Z",
     "start_time": "2025-03-25T14:16:53.120522Z"
    }
   }
  },
  {
   "cell_type": "code",
   "execution_count": 7,
   "outputs": [
    {
     "data": {
      "text/plain": "<Figure size 640x480 with 0 Axes>"
     },
     "metadata": {},
     "output_type": "display_data"
    }
   ],
   "source": [
    "## 混淆矩阵绘制示例\n",
    "from Draw import Confusion_Matrix\n",
    "CM = Confusion_Matrix(filename=\"CM\")\n",
    "true = np.random.randint(0, 10, (1000))\n",
    "pred = copy.deepcopy(true)\n",
    "for i, x_ in enumerate(true):\n",
    "    if np.random.random() > 0.90:\n",
    "        pred[i] = np.random.randint(0, 10)\n",
    "CM.Drawing(true, pred)"
   ],
   "metadata": {
    "collapsed": false,
    "ExecuteTime": {
     "end_time": "2025-03-25T14:16:55.327748500Z",
     "start_time": "2025-03-25T14:16:53.960881300Z"
    }
   }
  },
  {
   "cell_type": "code",
   "execution_count": 8,
   "outputs": [
    {
     "data": {
      "text/plain": "<Figure size 640x480 with 0 Axes>"
     },
     "metadata": {},
     "output_type": "display_data"
    }
   ],
   "source": [
    "## 色图绘制示例\n",
    "from Draw import Color_Mapping\n",
    "a = np.arange(10).reshape(10, 1)\n",
    "b = np.ones((1, 1000))\n",
    "true = a * b\n",
    "true = true.flatten().astype(int)\n",
    "pred = copy.deepcopy(true)\n",
    "for i, x_ in enumerate(true):\n",
    "    if np.random.random() > 0.90:\n",
    "        pred[i] = np.random.randint(0, 10)\n",
    "cmap = Color_Mapping(filename=\"CMAP\")\n",
    "cmap.Mapping(true, pred)"
   ],
   "metadata": {
    "collapsed": false,
    "ExecuteTime": {
     "end_time": "2025-03-25T14:16:56.446185100Z",
     "start_time": "2025-03-25T14:16:55.339277100Z"
    }
   }
  },
  {
   "cell_type": "code",
   "execution_count": 9,
   "outputs": [
    {
     "data": {
      "text/plain": "<Figure size 640x480 with 0 Axes>"
     },
     "metadata": {},
     "output_type": "display_data"
    }
   ],
   "source": [
    "## 热图绘制实示例\n",
    "from Draw import Annotated_Heatmaps\n",
    "matrix = np.random.random((5, 10))\n",
    "column = np.arange(1, 11)\n",
    "row = np.arange(1, 6)\n",
    "AH = Annotated_Heatmaps(\n",
    "    filename=\"AH\", xticklabels=column, yticklabels=row)\n",
    "AH.Drawing(matrix)"
   ],
   "metadata": {
    "collapsed": false,
    "ExecuteTime": {
     "end_time": "2025-03-25T14:16:57.237385200Z",
     "start_time": "2025-03-25T14:16:56.446185100Z"
    }
   }
  },
  {
   "cell_type": "code",
   "execution_count": 10,
   "outputs": [
    {
     "data": {
      "text/plain": "<Figure size 640x480 with 0 Axes>"
     },
     "metadata": {},
     "output_type": "display_data"
    },
    {
     "data": {
      "text/plain": "<Figure size 640x480 with 0 Axes>"
     },
     "metadata": {},
     "output_type": "display_data"
    }
   ],
   "source": [
    "## 误差图绘制示例\n",
    "from Draw import Error_Drawing\n",
    "x = np.arange(1, 11)\n",
    "mean = np.random.random((2, 10))\n",
    "std = 0.1 * np.random.random((2, 10))\n",
    "EB = Error_Drawing()\n",
    "# 误差带图示例\n",
    "EB.filename = \"Banding\"\n",
    "EB.drawing_banding(\n",
    "    x_value=x, mean_value=mean, std_value=std,\n",
    "    colors=(\"red\", \"blue\"),\n",
    "    markers=(\"o\", \"s\"),\n",
    "    labels=(\"index 1\", \"index 2\")\n",
    ")\n",
    "# 带误差棒的折线图示例\n",
    "EB.filename = \"Line Error\"\n",
    "EB.drawing_line_error(\n",
    "    x_value=x, mean_value=mean, std_value=std,\n",
    "    colors=(\"#DBDB8D\", \"#C59D94\"),\n",
    "    labels=(\"index 1\", \"index 2\")\n",
    ")\n",
    "# 带误差棒的柱状图示例\n",
    "EB.filename = \"Bar Error\"\n",
    "EB.drawing_bar_error(\n",
    "    x_value=x, mean_value=mean, std_value=std,\n",
    "    colors=(\"#DBDB8D\", \"#C59D94\"),\n",
    "    labels=(\"index 1\", \"index 2\")\n",
    ")\n",
    "# 带误差棒的横向柱状图示例\n",
    "EB.filename = \"Barh Error\"\n",
    "EB.drawing_barh_error(\n",
    "    x_value=x, mean_value=mean, std_value=std,\n",
    "    colors=(\"#DBDB8D\", \"#C59D94\"),\n",
    "    labels=(\"index 1\", \"index 2\")\n",
    ")"
   ],
   "metadata": {
    "collapsed": false,
    "ExecuteTime": {
     "end_time": "2025-03-25T14:16:59.376646600Z",
     "start_time": "2025-03-25T14:16:57.238392700Z"
    }
   }
  },
  {
   "cell_type": "code",
   "execution_count": 11,
   "outputs": [
    {
     "data": {
      "text/plain": "<Figure size 640x480 with 0 Axes>"
     },
     "metadata": {},
     "output_type": "display_data"
    }
   ],
   "source": [
    "## 可视化数据集示例\n",
    "from Draw import Visual_Pixes\n",
    "mnist = fetch_openml('mnist_784', parser='auto', version=1)\n",
    "images, target = mnist[\"data\"].to_numpy(), mnist[\"target\"].to_numpy()\n",
    "VP = Visual_Pixes(filename=\"VP\", pic_height=28, pic_weight=28)\n",
    "VP.Drawing(images, target)"
   ],
   "metadata": {
    "collapsed": false,
    "ExecuteTime": {
     "end_time": "2025-03-25T14:17:06.567185800Z",
     "start_time": "2025-03-25T14:16:59.376646600Z"
    }
   }
  }
 ],
 "metadata": {
  "kernelspec": {
   "display_name": "Python 3",
   "language": "python",
   "name": "python3"
  },
  "language_info": {
   "codemirror_mode": {
    "name": "ipython",
    "version": 2
   },
   "file_extension": ".py",
   "mimetype": "text/x-python",
   "name": "python",
   "nbconvert_exporter": "python",
   "pygments_lexer": "ipython2",
   "version": "2.7.6"
  }
 },
 "nbformat": 4,
 "nbformat_minor": 0
}
